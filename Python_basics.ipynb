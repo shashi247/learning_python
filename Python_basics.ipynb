{
 "cells": [
  {
   "cell_type": "code",
   "execution_count": 1,
   "id": "a0734e14",
   "metadata": {},
   "outputs": [
    {
     "name": "stdout",
     "output_type": "stream",
     "text": [
      "5 is greater than 2\n"
     ]
    }
   ],
   "source": [
    "if 5>2:\n",
    "    \n",
    "            print(\"5 is greater than 2\")"
   ]
  },
  {
   "cell_type": "code",
   "execution_count": 17,
   "id": "8c651571",
   "metadata": {},
   "outputs": [
    {
     "name": "stdout",
     "output_type": "stream",
     "text": [
      "my name is shashi\n",
      "i am married to nunu\n",
      "my name is shashi i am married to nunu\n"
     ]
    }
   ],
   "source": [
    "#print examples\n",
    "x=\"my name is shashi\"\n",
    "y=\"i am married to nunu\"\n",
    "print(x)\n",
    "print(y)\n",
    "print(x,y)"
   ]
  },
  {
   "cell_type": "code",
   "execution_count": 13,
   "id": "93a445e9",
   "metadata": {},
   "outputs": [
    {
     "name": "stdout",
     "output_type": "stream",
     "text": [
      "shashi\n",
      "<class 'str'>\n"
     ]
    }
   ],
   "source": [
    "x=5\n",
    "x=\"shashi\"\n",
    "print(x)\n",
    "print(type(x))"
   ]
  },
  {
   "cell_type": "code",
   "execution_count": 14,
   "id": "32b6e4d1",
   "metadata": {},
   "outputs": [
    {
     "name": "stdout",
     "output_type": "stream",
     "text": [
      "my name is shashi\n",
      "neha is my wife\n"
     ]
    }
   ],
   "source": [
    "shashi,neha=\"my name is shashi\",\"neha is my wife\"\n",
    "print(shashi)\n",
    "print(neha)"
   ]
  },
  {
   "cell_type": "code",
   "execution_count": 19,
   "id": "7533a0e9",
   "metadata": {},
   "outputs": [
    {
     "name": "stdout",
     "output_type": "stream",
     "text": [
      "['apple', 'banana', 'orange']\n",
      "apple\n",
      "banana\n",
      "orange\n",
      "apple banana orange\n",
      "applebananaorange\n"
     ]
    }
   ],
   "source": [
    "fruits=[\"apple\",\"banana\",\"orange\"]\n",
    "x,y,z=fruits\n",
    "print(fruits)\n",
    "print(x)\n",
    "print(y)\n",
    "print(z)\n",
    "print(x,y,z)\n",
    "print(x+y+z)"
   ]
  },
  {
   "cell_type": "code",
   "execution_count": 24,
   "id": "f9d0e1fe",
   "metadata": {},
   "outputs": [
    {
     "name": "stdout",
     "output_type": "stream",
     "text": [
      "5 job\n"
     ]
    }
   ],
   "source": [
    "x,y=5,\"job\"\n",
    "print(x,y)"
   ]
  },
  {
   "cell_type": "code",
   "execution_count": 31,
   "id": "f43a12bb",
   "metadata": {},
   "outputs": [
    {
     "name": "stdout",
     "output_type": "stream",
     "text": [
      "Python is fantastic\n",
      "fantastic\n",
      "Volvo\n",
      "<class 'str'>\n"
     ]
    }
   ],
   "source": [
    "#function\n",
    "x=\"awesone\"\n",
    "\n",
    "def myFunc():\n",
    "    global x\n",
    "    x=\"fantastic\"\n",
    "    print(\"Python is \" + x)\n",
    "\n",
    "myFunc()\n",
    "\n",
    "print(x)\n",
    "\n",
    "\n",
    "carname=\"Volvo\"\n",
    "print(carname)\n",
    "print(type(carname))"
   ]
  },
  {
   "cell_type": "code",
   "execution_count": 7,
   "id": "cf341e31",
   "metadata": {},
   "outputs": [
    {
     "name": "stdout",
     "output_type": "stream",
     "text": [
      "<class 'int'> <class 'float'> <class 'complex'>\n",
      "-20.0 20 (-20+0j)\n",
      "<class 'float'> <class 'int'> <class 'complex'>\n",
      "random\n",
      "68\n",
      "2\n",
      "hello\n",
      "dolor in a\n",
      "130\n",
      "L\n",
      "True\n",
      "b\n",
      "a\n",
      "n\n",
      "a\n",
      "n\n",
      "a\n",
      "n\n",
      "a\n",
      "['Hello', ' World!']\n",
      "MY NAME IS SHASHI AND I AM 36\n",
      "True\n",
      "True\n",
      "True\n",
      "False\n",
      "True\n"
     ]
    }
   ],
   "source": [
    "#variables\n",
    "x=-20\n",
    "y=20.3\n",
    "z=1j\n",
    "print(type(x),type(y),type(z))\n",
    "\n",
    "a=float(x)\n",
    "b=int(y)\n",
    "c=complex(x)\n",
    "\n",
    "print(a, b, c)\n",
    "print(type(a),type(b),type(c))\n",
    "\n",
    "import random\n",
    "print(\"random\")\n",
    "print(random.randrange(1,100))\n",
    "\n",
    "z=str(2)\n",
    "print(z)\n",
    "\n",
    "a=\"hello\"\n",
    "print(a)\n",
    "\n",
    "a = \"\"\"Lorem ipsum dolor sit amet,\n",
    "consectetur adipiscing elit,\n",
    "sed do eiusmod tempor incididunt\n",
    "ut labore et dolore magna shashi aliqua.\"\"\"\n",
    "if \"dolor\" in a:\n",
    "    print(\"dolor in a\")\n",
    "    \n",
    "\n",
    "print(len(a))\n",
    "    \n",
    "#print(a)\n",
    "\n",
    "print(a[0])\n",
    "\n",
    "print(\"dolor\" in a )\n",
    "\n",
    "for x in \"bananana\":\n",
    "    print(x)\n",
    "    \n",
    "    \n",
    "b = \"Hello, World!\"\n",
    "print(b.split(\",\"))\n",
    "\n",
    "\n",
    "age=36\n",
    "name= \"my name is shashi and I am {}\"\n",
    "name=name.upper()\n",
    "print ((name.format(age)))\n",
    "\n",
    "print(bool(15))\n",
    "\n",
    "x = \"Hello\"\n",
    "y = 15\n",
    "\n",
    "print(bool(x))\n",
    "print(bool(y))\n",
    "\n",
    "class myclass():\n",
    "  def __len__(self):\n",
    "    return 0\n",
    "\n",
    "myobj = myclass()\n",
    "print(bool(myobj))\n",
    "\n",
    "x = 200\n",
    "print(isinstance(x, int))"
   ]
  },
  {
   "cell_type": "code",
   "execution_count": 6,
   "id": "313e2339",
   "metadata": {},
   "outputs": [
    {
     "name": "stdout",
     "output_type": "stream",
     "text": [
      "5\n"
     ]
    }
   ],
   "source": [
    "#operator\n",
    "\n",
    "print(5 + 4 - 7 + 3)"
   ]
  },
  {
   "cell_type": "code",
   "execution_count": 110,
   "id": "5014157d",
   "metadata": {},
   "outputs": [
    {
     "name": "stdout",
     "output_type": "stream",
     "text": [
      "<class 'list'>\n",
      "['abc', 34, True, 40, 'male']\n",
      "cherry\n",
      "['cherry', 'orange', 'kiwi']\n",
      "['apple', 'banana', 'cherry', 'orange']\n",
      "['cherry', 'orange', 'kiwi', 'melon', 'mango']\n",
      "['orange', 'kiwi', 'melon']\n",
      "['apple', 'blackcurrant', 'cherry']\n",
      "['apple', 'blackcurrant', 'watermelon', 'shashi', 'kiwi', 'mango']\n",
      "['apple', 'watermelon', 'cherry']\n",
      "['cherry', 'orange', 'kiwi']\n",
      "['apple', 'banana', 'cherry', 'orange']\n",
      "['cherry', 'orange', 'kiwi', 'melon', 'mango']\n",
      "['orange', 'kiwi', 'melon']\n",
      "['apple', 'blackcurrant', 'watermelon', 'cherry']\n",
      "['apple', 'watermelon']\n",
      "['apple', 'banana', 'blackcurrent', 'watermelon', 'cherry']\n",
      "['apple', 'banana', 'cherry', 'kiwi', 'orange']\n",
      "thislist\n",
      "thislist\n"
     ]
    }
   ],
   "source": [
    "#list\n",
    "\n",
    "mylist = [\"apple\", \"banana\", \"cherry\"]\n",
    "print(type(mylist))\n",
    "\n",
    "list1 = [\"abc\", 34, True, 40, \"male\"]\n",
    "print(list1)\n",
    "\n",
    "thislist = [\"apple\", \"banana\", \"cherry\"]\n",
    "print(thislist[-1])\n",
    "\n",
    "thislist = [\"apple\", \"banana\", \"cherry\", \"orange\", \"kiwi\", \"melon\", \"mango\"]\n",
    "print(thislist[2:5])\n",
    "\n",
    "thislist = [\"apple\", \"banana\", \"cherry\", \"orange\", \"kiwi\", \"melon\", \"mango\"]\n",
    "print(thislist[:4])\n",
    "\n",
    "thislist = [\"apple\", \"banana\", \"cherry\", \"orange\", \"kiwi\", \"melon\", \"mango\"]\n",
    "print(thislist[2:])\n",
    "\n",
    "thislist = [\"apple\", \"banana\", \"cherry\", \"orange\", \"kiwi\", \"melon\", \"mango\"]\n",
    "print(thislist[-4:-1])\n",
    "\n",
    "thislist = [\"apple\", \"banana\", \"cherry\"]\n",
    "thislist[1] = \"blackcurrant\"\n",
    "print(thislist)\n",
    "\n",
    "thislist = [\"apple\", \"banana\", \"cherry\", \"orange\", \"kiwi\", \"mango\"]\n",
    "thislist[1:4] = [\"blackcurrant\", \"watermelon\",\"shashi\"]\n",
    "print(thislist)\n",
    "\n",
    "thislist = [\"apple\", \"banana\", \"cherry\"]\n",
    "thislist[1] = \"watermelon\"\n",
    "print(thislist)\n",
    "\n",
    "\n",
    "thislist = [\"apple\", \"banana\", \"cherry\", \"orange\", \"kiwi\", \"melon\", \"mango\"]\n",
    "print(thislist[2:5])\n",
    "\n",
    "\n",
    "thislist = [\"apple\", \"banana\", \"cherry\", \"orange\", \"kiwi\", \"melon\", \"mango\"]\n",
    "print(thislist[:4])\n",
    "thislist = [\"apple\", \"banana\", \"cherry\", \"orange\", \"kiwi\", \"melon\", \"mango\"]\n",
    "print(thislist[2:])\n",
    "\n",
    "thislist = [\"apple\", \"banana\", \"cherry\", \"orange\", \"kiwi\", \"melon\", \"mango\"]\n",
    "print(thislist[-4:-1])\n",
    "\n",
    "thislist = [\"apple\", \"banana\", \"cherry\"]\n",
    "thislist[1:2] = [\"blackcurrant\", \"watermelon\"]\n",
    "print(thislist)\n",
    "\n",
    "thislist = [\"apple\", \"banana\", \"cherry\"]\n",
    "thislist[1:3] = [\"watermelon\"]\n",
    "print(thislist)\n",
    "\n",
    "thislist = [\"apple\", \"banana\", \"cherry\"]\n",
    "thislist.insert(2, \"watermelon\")\n",
    "thislist.insert(2,\"blackcurrent\")\n",
    "print(thislist)\n",
    "\n",
    "thislist = [\"apple\", \"banana\", \"cherry\"]\n",
    "thistuple = (\"kiwi\", \"orange\")\n",
    "thislist.extend(thistuple)\n",
    "print(thislist)\n",
    "thislist.clear()\n",
    "print(\"thislist\")\n",
    "del thislist\n",
    "print(\"thislist\")"
   ]
  },
  {
   "cell_type": "code",
   "execution_count": 9,
   "id": "a4b08cc5",
   "metadata": {},
   "outputs": [
    {
     "name": "stdout",
     "output_type": "stream",
     "text": [
      "apple\n",
      "banana\n",
      "cherry\n"
     ]
    },
    {
     "data": {
      "text/plain": [
       "[None, None, None]"
      ]
     },
     "execution_count": 9,
     "metadata": {},
     "output_type": "execute_result"
    }
   ],
   "source": [
    "#loop list\n",
    "\n",
    "thislist=[\"apple\",\"banana\",\"cherry\"]\n",
    "# for x in thislist:\n",
    "#     print(x)\n",
    "# print(len(thislist))\n",
    "# print (range(len(thislist)))\n",
    "# for i in range(len(thislist)):\n",
    "#     print(thislist[i])\n",
    "\n",
    "    \n",
    "# #while loop\n",
    "# print(len(thislist))\n",
    "# i=0\n",
    "# while i < len(thislist):\n",
    "#     print(thislist[i])\n",
    "#     i=i+1\n",
    "[print(x) for x in thislist]\n",
    "  "
   ]
  },
  {
   "cell_type": "code",
   "execution_count": 151,
   "id": "992c669f",
   "metadata": {},
   "outputs": [
    {
     "ename": "SyntaxError",
     "evalue": "expected 'else' after 'if' expression (3377943359.py, line 24)",
     "output_type": "error",
     "traceback": [
      "\u001b[0;36m  Cell \u001b[0;32mIn[151], line 24\u001b[0;36m\u001b[0m\n\u001b[0;31m    newlist7 = [x if x != \"banana\" for x in fruits]\u001b[0m\n\u001b[0m                ^\u001b[0m\n\u001b[0;31mSyntaxError\u001b[0m\u001b[0;31m:\u001b[0m expected 'else' after 'if' expression\n"
     ]
    }
   ],
   "source": [
    "#comprehension looping\n",
    "fruits=[\"apple\",\"banana\",\"cherry\"]\n",
    "newlist=[]\n",
    "for x in fruits:\n",
    "    if \"a\" in x:\n",
    "        newlist.append(x)\n",
    "print(newlist)\n",
    "\n",
    "newlist2=[x for x in fruits if \"e\" in x]\n",
    "print (newlist2)\n",
    "\n",
    "newlist3=[x for x in fruits if x!=\"apple\"]\n",
    "print(newlist3)\n",
    "\n",
    "newlist4=[x for x in fruits]\n",
    "print(newlist4)\n",
    "\n",
    "newlist5 = [x for x in range(10)]\n",
    "print(newlist5)\n",
    "\n",
    "newlist6 = ['hello' for x in fruits]\n",
    "print(newlist6)\n",
    "\n",
    "newlist7 = [x if x != \"banana\" else \"orange\" for x in fruits]\n",
    "print(newlist7)\n",
    "\n"
   ]
  },
  {
   "cell_type": "code",
   "execution_count": 161,
   "id": "17c3a6f9",
   "metadata": {},
   "outputs": [
    {
     "name": "stdout",
     "output_type": "stream",
     "text": [
      "[50, 65, 23, 82, 100]\n",
      "['cherry', 'Kiwi', 'Orange', 'banana']\n",
      "banana\n"
     ]
    }
   ],
   "source": [
    "#sorting\n",
    "def myfunc(n):\n",
    "  return abs(n - 50)\n",
    "\n",
    "thislist = [100, 50, 65, 82, 23]\n",
    "thislist.sort(key = myfunc)\n",
    "print(thislist)\n",
    "\n",
    "\n",
    "thislist = [\"banana\", \"Orange\", \"Kiwi\", \"cherry\"]\n",
    "thislist.reverse()\n",
    "print(thislist)\n",
    "\n",
    "\n",
    "fruits = [\"apple\", \"banana\", \"cherry\"]\n",
    "print(fruits[1])"
   ]
  },
  {
   "cell_type": "code",
   "execution_count": 167,
   "id": "89243874",
   "metadata": {},
   "outputs": [
    {
     "name": "stdout",
     "output_type": "stream",
     "text": [
      "<class 'tuple'>\n",
      "<class 'str'>\n",
      "<class 'tuple'>\n",
      "('cherry', 'orange', 'kiwi')\n",
      "('apple', 'banana', 'cherry', 'orange')\n",
      "apple\n",
      "banana\n",
      "cherry\n"
     ]
    }
   ],
   "source": [
    "#tuple\n",
    "thistuple = (\"apple\",)\n",
    "print(type(thistuple))\n",
    "\n",
    "#NOT a tuple\n",
    "thistuple = (\"apple\")\n",
    "print(type(thistuple))\n",
    "\n",
    "mytuple = (\"apple\", \"banana\", \"cherry\")\n",
    "print(type(mytuple))\n",
    "\n",
    "thistuple = (\"apple\", \"banana\", \"cherry\", \"orange\", \"kiwi\", \"melon\", \"mango\")\n",
    "print(thistuple[2:5])\n",
    "\n",
    "thistuple = (\"apple\", \"banana\", \"cherry\")\n",
    "y = (\"orange\",)\n",
    "thistuple = thistuple+ y\n",
    "\n",
    "print(thistuple)\n",
    "\n",
    "\n",
    "fruits = (\"apple\", \"banana\", \"cherry\")\n",
    "\n",
    "(green, yellow, red) = fruits\n",
    "print(green)\n",
    "print(yellow)\n",
    "print(red)"
   ]
  },
  {
   "cell_type": "code",
   "execution_count": 191,
   "id": "edff62b7",
   "metadata": {},
   "outputs": [
    {
     "name": "stdout",
     "output_type": "stream",
     "text": [
      "10\n",
      "John\n",
      "36\n",
      "John(36)\n"
     ]
    }
   ],
   "source": [
    "# # # def my_function(fname):\n",
    "# # #   print(fname + \" Refsnes\")\n",
    "\n",
    "# # # my_function(\"Emil\")\n",
    "# # # my_function(\"Tobias\")\n",
    "# # # my_function(\"Linus\")\n",
    "\n",
    "# # # def my_function(*kids):\n",
    "# # #   print(\"The youngest child is \" + kids[2])\n",
    "\n",
    "# # # my_function(\"Emil\", \"Tobias\", \"Linus\")\n",
    "\n",
    "\n",
    "# # # def _myfunct(x):\n",
    "# # #     return 5*x\n",
    "# # # print(_myfunct(3))\n",
    "\n",
    "# # def tri_recursion(k):\n",
    "# #   if(k > 0):\n",
    "# #     result = k + tri_recursion(k - 1)\n",
    "# #     print(result)\n",
    "# #   else:\n",
    "# #     result = 0\n",
    "# #   return result\n",
    "\n",
    "# # print(\"\\n\\nRecursion Example Results\")\n",
    "# # tri_recursion(6)\n",
    "\n",
    "\n",
    "# x = lambda a : a + 10\n",
    "# print(x(5))\n",
    "\n",
    "# y = lambda a, b : a*b+10\n",
    "# print(y(2,3))\n",
    "\n",
    "# def myfunc(n):\n",
    "#   return lambda a : a * n\n",
    "\n",
    "# mydoubler = myfunc(2)\n",
    "\n",
    "# print(mydoubler(11))\n",
    "\n",
    "class MyClass:\n",
    "    x=5\n",
    "    y=10\n",
    "p1=MyClass()\n",
    "print(p1.y)\n",
    "\n",
    "class Person:\n",
    "  def __init__(self1, name, age):\n",
    "    self1.name = name\n",
    "    self1.age = age\n",
    "\n",
    "p1 = Person(\"John\", 36)\n",
    "\n",
    "print(p1.name)\n",
    "print(p1.age)\n",
    "\n",
    "class Person:\n",
    "  def __init__(self, name, age):\n",
    "    self.name = name\n",
    "    self.age = age\n",
    "\n",
    "  def __str__(self):\n",
    "    return f\"{self.name}({self.age})\"\n",
    "\n",
    "p1 = Person(\"John\", 36)\n",
    "\n",
    "print(p1)"
   ]
  },
  {
   "cell_type": "code",
   "execution_count": 194,
   "id": "e5ffd5ce",
   "metadata": {},
   "outputs": [
    {
     "name": "stdout",
     "output_type": "stream",
     "text": [
      "apple\n",
      "banana\n",
      "cherry\n",
      "b\n",
      "a\n",
      "n\n",
      "a\n",
      "n\n",
      "a\n"
     ]
    }
   ],
   "source": [
    "#iterators\n",
    "\n",
    "mytuple = (\"apple\", \"banana\", \"cherry\")\n",
    "myit = iter(mytuple)\n",
    "\n",
    "print(next(myit))\n",
    "print(next(myit))\n",
    "print(next(myit))\n",
    "\n",
    "\n",
    "mystr = \"banana\"\n",
    "myit = iter(mystr)\n",
    "\n",
    "print(next(myit))\n",
    "print(next(myit))\n",
    "print(next(myit))\n",
    "print(next(myit))\n",
    "print(next(myit))\n",
    "print(next(myit))"
   ]
  },
  {
   "cell_type": "code",
   "execution_count": 195,
   "id": "84f81820",
   "metadata": {},
   "outputs": [
    {
     "name": "stdout",
     "output_type": "stream",
     "text": [
      "1\n",
      "2\n",
      "3\n",
      "4\n",
      "5\n",
      "6\n",
      "7\n",
      "8\n",
      "9\n",
      "10\n",
      "11\n",
      "12\n",
      "13\n",
      "14\n",
      "15\n",
      "16\n",
      "17\n",
      "18\n",
      "19\n",
      "20\n"
     ]
    }
   ],
   "source": [
    "class MyNumbers:\n",
    "  def __iter__(self):\n",
    "    self.a = 1\n",
    "    return self\n",
    "\n",
    "  def __next__(self):\n",
    "    if self.a <= 20:\n",
    "      x = self.a\n",
    "      self.a += 1\n",
    "      return x\n",
    "    else:\n",
    "      raise StopIteration\n",
    "\n",
    "myclass = MyNumbers()\n",
    "myiter = iter(myclass)\n",
    "\n",
    "for x in myiter:\n",
    "  print(x)"
   ]
  },
  {
   "cell_type": "code",
   "execution_count": 198,
   "id": "818a09a4",
   "metadata": {},
   "outputs": [
    {
     "name": "stdout",
     "output_type": "stream",
     "text": [
      "Ford Mustang\n",
      "Move!\n",
      "Ibiza Touring 20\n",
      "Sail!\n",
      "Boeing 747\n",
      "Fly!\n"
     ]
    }
   ],
   "source": [
    "# #polymorphism\n",
    "\n",
    "# class Car:\n",
    "#   def __init__(self, brand, model):\n",
    "#     self.brand = brand\n",
    "#     self.model = model\n",
    "\n",
    "#   def move(self):\n",
    "#     print(\"Drive!\")\n",
    "\n",
    "# class Boat:\n",
    "#   def __init__(self, brand, model):\n",
    "#     self.brand = brand\n",
    "#     self.model = model\n",
    "\n",
    "#   def move(self):\n",
    "#     print(\"Sail!\")\n",
    "\n",
    "# class Plane:\n",
    "#   def __init__(self, brand, model):\n",
    "#     self.brand = brand\n",
    "#     self.model = model\n",
    "\n",
    "#   def move(self):\n",
    "#     print(\"Fly!\")\n",
    "\n",
    "# car1 = Car(\"Ford\", \"Mustang\")       #Create a Car class\n",
    "# boat1 = Boat(\"Ibiza\", \"Touring 20\") #Create a Boat class\n",
    "# plane1 = Plane(\"Boeing\", \"747\")     #Create a Plane class\n",
    "\n",
    "# for x in (car1, boat1, plane1):\n",
    "#   x.move()\n",
    "\n",
    "class Vehicle:\n",
    "  def __init__(self, brand, model):\n",
    "    self.brand = brand\n",
    "    self.model = model\n",
    "\n",
    "  def move(self):\n",
    "    print(\"Move!\")\n",
    "\n",
    "class Car(Vehicle):\n",
    "  pass\n",
    "\n",
    "class Boat(Vehicle):\n",
    "  def move(self):\n",
    "    print(\"Sail!\")\n",
    "\n",
    "class Plane(Vehicle):\n",
    "  def move(self):\n",
    "    print(\"Fly!\")\n",
    "\n",
    "car1 = Car(\"Ford\", \"Mustang\") #Create a Car object\n",
    "boat1 = Boat(\"Ibiza\", \"Touring 20\") #Create a Boat object\n",
    "plane1 = Plane(\"Boeing\", \"747\") #Create a Plane object\n",
    "\n",
    "for x in (car1, boat1, plane1):\n",
    "  print(x.brand,x.model)\n",
    "  x.move()"
   ]
  },
  {
   "cell_type": "code",
   "execution_count": 199,
   "id": "247698d7",
   "metadata": {},
   "outputs": [
    {
     "name": "stdout",
     "output_type": "stream",
     "text": [
      "300\n"
     ]
    }
   ],
   "source": [
    "def myfunc():\n",
    "  x = 300\n",
    "  def myinnerfunc():\n",
    "    print(x)\n",
    "  myinnerfunc()\n",
    "\n",
    "myfunc()"
   ]
  },
  {
   "cell_type": "code",
   "execution_count": 200,
   "id": "4c607f45",
   "metadata": {},
   "outputs": [
    {
     "name": "stdout",
     "output_type": "stream",
     "text": [
      "200\n",
      "300\n"
     ]
    }
   ],
   "source": [
    "x = 300\n",
    "\n",
    "def myfunc():\n",
    "  x = 200\n",
    "  print(x)\n",
    "\n",
    "myfunc()\n",
    "\n",
    "print(x)"
   ]
  },
  {
   "cell_type": "code",
   "execution_count": 205,
   "id": "e4d5856b",
   "metadata": {},
   "outputs": [
    {
     "name": "stdout",
     "output_type": "stream",
     "text": [
      "['_Processor', '_WIN32_CLIENT_RELEASES', '_WIN32_SERVER_RELEASES', '__builtins__', '__cached__', '__copyright__', '__doc__', '__file__', '__loader__', '__name__', '__package__', '__spec__', '__version__', '_comparable_version', '_component_re', '_default_architecture', '_follow_symlinks', '_get_machine_win32', '_ironpython26_sys_version_parser', '_ironpython_sys_version_parser', '_java_getprop', '_libc_search', '_mac_ver_xml', '_node', '_norm_version', '_os_release_cache', '_os_release_candidates', '_os_release_line', '_os_release_unescape', '_parse_os_release', '_platform', '_platform_cache', '_pypy_sys_version_parser', '_sys_version', '_sys_version_cache', '_sys_version_parser', '_syscmd_file', '_syscmd_ver', '_uname_cache', '_unknown_as_blank', '_ver_output', '_ver_stages', 'architecture', 'collections', 'freedesktop_os_release', 'functools', 'itertools', 'java_ver', 'libc_ver', 'mac_ver', 'machine', 'node', 'os', 'platform', 'processor', 'python_branch', 'python_build', 'python_compiler', 'python_implementation', 'python_revision', 'python_version', 'python_version_tuple', 're', 'release', 'sys', 'system', 'system_alias', 'uname', 'uname_result', 'version', 'win32_edition', 'win32_is_iot', 'win32_ver']\n"
     ]
    }
   ],
   "source": [
    "import platform\n",
    "\n",
    "x = dir(platform)\n",
    "print(x)"
   ]
  },
  {
   "cell_type": "code",
   "execution_count": 209,
   "id": "f155188e",
   "metadata": {},
   "outputs": [
    {
     "name": "stdout",
     "output_type": "stream",
     "text": [
      "2023-11-23 06:49:08.020885\n",
      "Thursday\n",
      "['MAXYEAR', 'MINYEAR', 'UTC', '__all__', '__builtins__', '__cached__', '__doc__', '__file__', '__loader__', '__name__', '__package__', '__spec__', 'date', 'datetime', 'datetime_CAPI', 'sys', 'time', 'timedelta', 'timezone', 'tzinfo']\n",
      "2020-05-17 00:00:00\n"
     ]
    }
   ],
   "source": [
    "import datetime\n",
    "\n",
    "x = datetime.datetime.now()\n",
    "y=dir(datetime)\n",
    "print(x)\n",
    "print(x.strftime(\"%A\"))\n",
    "print(y)\n",
    "import datetime\n",
    "\n",
    "x = datetime.datetime(2020, 5, 17)\n",
    "\n",
    "print(x)"
   ]
  },
  {
   "cell_type": "code",
   "execution_count": 212,
   "id": "db7540f2",
   "metadata": {},
   "outputs": [
    {
     "name": "stdout",
     "output_type": "stream",
     "text": [
      "June\n",
      "7.25\n",
      "['__doc__', '__file__', '__loader__', '__name__', '__package__', '__spec__', 'acos', 'acosh', 'asin', 'asinh', 'atan', 'atan2', 'atanh', 'cbrt', 'ceil', 'comb', 'copysign', 'cos', 'cosh', 'degrees', 'dist', 'e', 'erf', 'erfc', 'exp', 'exp2', 'expm1', 'fabs', 'factorial', 'floor', 'fmod', 'frexp', 'fsum', 'gamma', 'gcd', 'hypot', 'inf', 'isclose', 'isfinite', 'isinf', 'isnan', 'isqrt', 'lcm', 'ldexp', 'lgamma', 'log', 'log10', 'log1p', 'log2', 'modf', 'nan', 'nextafter', 'perm', 'pi', 'pow', 'prod', 'radians', 'remainder', 'sin', 'sinh', 'sqrt', 'tan', 'tanh', 'tau', 'trunc', 'ulp']\n"
     ]
    }
   ],
   "source": [
    "import datetime\n",
    "\n",
    "x = datetime.datetime(2018, 6, 1)\n",
    "\n",
    "print(x.strftime(\"%B\"))\n",
    "\n",
    "x = abs(-7.25)\n",
    "\n",
    "print(x)\n",
    "\n",
    "import math\n",
    "\n",
    "x = dir(math)\n",
    "\n",
    "print(x)"
   ]
  },
  {
   "cell_type": "code",
   "execution_count": 217,
   "id": "f0cce268",
   "metadata": {},
   "outputs": [
    {
     "name": "stdout",
     "output_type": "stream",
     "text": [
      "{'name': 'John', 'age': 30, 'married': True, 'divorced': False, 'children': ('Ann', 'Billy'), 'pets': None, 'cars': [{'model': 'BMW 230', 'mpg': 27.5}, {'model': 'Ford Edge', 'mpg': 24.1}]}\n",
      "{\n",
      "\"name\" = \"John\". \n",
      "\"age\" = 30. \n",
      "\"married\" = true. \n",
      "\"divorced\" = false. \n",
      "\"children\" = [\n",
      "\"Ann\". \n",
      "\"Billy\"\n",
      "]. \n",
      "\"pets\" = null. \n",
      "\"cars\" = [\n",
      "{\n",
      "\"model\" = \"BMW 230\". \n",
      "\"mpg\" = 27.5\n",
      "}. \n",
      "{\n",
      "\"model\" = \"Ford Edge\". \n",
      "\"mpg\" = 24.1\n",
      "}\n",
      "]\n",
      "}\n"
     ]
    }
   ],
   "source": [
    "#json\n",
    "\n",
    "import json\n",
    "\n",
    "x = {\n",
    "  \"name\": \"John\",\n",
    "  \"age\": 30,\n",
    "  \"married\": True,\n",
    "  \"divorced\": False,\n",
    "  \"children\": (\"Ann\",\"Billy\"),\n",
    "  \"pets\": None,\n",
    "  \"cars\": [\n",
    "    {\"model\": \"BMW 230\", \"mpg\": 27.5},\n",
    "    {\"model\": \"Ford Edge\", \"mpg\": 24.1}\n",
    "  ]\n",
    "}\n",
    "print(x)\n",
    "#print(json.dumps(x))\n",
    "print(json.dumps(x, indent=0, separators=(\". \", \" = \")))"
   ]
  },
  {
   "cell_type": "code",
   "execution_count": null,
   "id": "f7bc2ecf",
   "metadata": {},
   "outputs": [],
   "source": []
  }
 ],
 "metadata": {
  "kernelspec": {
   "display_name": "Python 3 (ipykernel)",
   "language": "python",
   "name": "python3"
  },
  "language_info": {
   "codemirror_mode": {
    "name": "ipython",
    "version": 3
   },
   "file_extension": ".py",
   "mimetype": "text/x-python",
   "name": "python",
   "nbconvert_exporter": "python",
   "pygments_lexer": "ipython3",
   "version": "3.11.5"
  }
 },
 "nbformat": 4,
 "nbformat_minor": 5
}
